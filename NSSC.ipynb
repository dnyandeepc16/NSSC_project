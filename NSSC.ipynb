{
  "cells": [
    {
      "cell_type": "markdown",
      "source": [
        "# **Importing required libraries**"
      ],
      "metadata": {
        "id": "ha5ltEE0CaLw"
      },
      "id": "ha5ltEE0CaLw"
    },
    {
      "cell_type": "code",
      "execution_count": null,
      "id": "b2ead891",
      "metadata": {
        "id": "b2ead891"
      },
      "outputs": [],
      "source": [
        "import numpy as np\n",
        "import matplotlib.pyplot as plt\n",
        "import pandas as pd\n",
        "import matplotlib.pyplot as plt\n",
        "from matplotlib import cm\n",
        "import seaborn as sns\n",
        "\n",
        "from sklearn.metrics import confusion_matrix\n",
        "from sklearn.metrics import classification_report\n",
        "from sklearn.model_selection import cross_val_predict\n",
        "from sklearn.metrics import accuracy_score, f1_score\n",
        "from sklearn.model_selection import train_test_split\n",
        "from sklearn.feature_selection import mutual_info_classif\n",
        "from sklearn.naive_bayes import GaussianNB\n",
        "from sklearn.cluster import KMeans\n",
        "from sklearn.preprocessing import MinMaxScaler\n",
        "from sklearn.model_selection import GridSearchCV\n",
        "from sklearn.ensemble import RandomForestClassifier"
      ]
    },
    {
      "cell_type": "code",
      "source": [
        "from google.colab import drive\n",
        "drive.mount('/content/drive/')"
      ],
      "metadata": {
        "colab": {
          "base_uri": "https://localhost:8080/"
        },
        "id": "CTzguoTbfhvN",
        "outputId": "029cf621-6a67-421c-9176-df3e70868a37"
      },
      "id": "CTzguoTbfhvN",
      "execution_count": null,
      "outputs": [
        {
          "output_type": "stream",
          "name": "stdout",
          "text": [
            "Drive already mounted at /content/drive/; to attempt to forcibly remount, call drive.mount(\"/content/drive/\", force_remount=True).\n"
          ]
        }
      ]
    },
    {
      "cell_type": "code",
      "execution_count": null,
      "id": "ddcb86f8",
      "metadata": {
        "id": "ddcb86f8"
      },
      "outputs": [],
      "source": [
        "train_dataset = pd.read_csv('/content/drive/MyDrive/CodeFiles/NSSC/train_NoNTTqq.csv')\n",
        "test_dataset = pd.read_csv('/content/drive/MyDrive/CodeFiles/NSSC/test_SxgqOdc.csv')"
      ]
    },
    {
      "cell_type": "code",
      "source": [
        "test_X = test_dataset.drop('id', axis = 1)"
      ],
      "metadata": {
        "id": "IgsVx7EOgBLF"
      },
      "id": "IgsVx7EOgBLF",
      "execution_count": null,
      "outputs": []
    },
    {
      "cell_type": "code",
      "source": [
        "test_X.head()"
      ],
      "metadata": {
        "colab": {
          "base_uri": "https://localhost:8080/",
          "height": 206
        },
        "id": "oAdo6dYqhJJx",
        "outputId": "d33258ea-ef52-4ad7-fd14-c87ed90033f0"
      },
      "id": "oAdo6dYqhJJx",
      "execution_count": null,
      "outputs": [
        {
          "output_type": "execute_result",
          "data": {
            "text/plain": [
              "   ultraviolet_filter  green_filter  red_filter  near_infrared_filter  \\\n",
              "0            19.63144      17.88840    16.45195             16.620047   \n",
              "1            25.74819      22.10760    19.97196             19.179141   \n",
              "2            22.38767      20.85446    20.75418             20.073627   \n",
              "3            22.03212      23.15455    21.86528             20.746343   \n",
              "4            25.01815      24.53933    22.03248             22.377272   \n",
              "\n",
              "        alpha      delta  redshift  \n",
              "0  336.501421   2.415351  0.000290  \n",
              "1  210.286161  -1.336858  0.513781  \n",
              "2  262.914770  46.025803  0.985297  \n",
              "3  146.381732  38.368224  0.712391  \n",
              "4  246.456081  30.515558  0.495552  "
            ],
            "text/html": [
              "\n",
              "  <div id=\"df-5c325a21-a84c-4c92-a336-d22eb5e39f0e\">\n",
              "    <div class=\"colab-df-container\">\n",
              "      <div>\n",
              "<style scoped>\n",
              "    .dataframe tbody tr th:only-of-type {\n",
              "        vertical-align: middle;\n",
              "    }\n",
              "\n",
              "    .dataframe tbody tr th {\n",
              "        vertical-align: top;\n",
              "    }\n",
              "\n",
              "    .dataframe thead th {\n",
              "        text-align: right;\n",
              "    }\n",
              "</style>\n",
              "<table border=\"1\" class=\"dataframe\">\n",
              "  <thead>\n",
              "    <tr style=\"text-align: right;\">\n",
              "      <th></th>\n",
              "      <th>ultraviolet_filter</th>\n",
              "      <th>green_filter</th>\n",
              "      <th>red_filter</th>\n",
              "      <th>near_infrared_filter</th>\n",
              "      <th>alpha</th>\n",
              "      <th>delta</th>\n",
              "      <th>redshift</th>\n",
              "    </tr>\n",
              "  </thead>\n",
              "  <tbody>\n",
              "    <tr>\n",
              "      <th>0</th>\n",
              "      <td>19.63144</td>\n",
              "      <td>17.88840</td>\n",
              "      <td>16.45195</td>\n",
              "      <td>16.620047</td>\n",
              "      <td>336.501421</td>\n",
              "      <td>2.415351</td>\n",
              "      <td>0.000290</td>\n",
              "    </tr>\n",
              "    <tr>\n",
              "      <th>1</th>\n",
              "      <td>25.74819</td>\n",
              "      <td>22.10760</td>\n",
              "      <td>19.97196</td>\n",
              "      <td>19.179141</td>\n",
              "      <td>210.286161</td>\n",
              "      <td>-1.336858</td>\n",
              "      <td>0.513781</td>\n",
              "    </tr>\n",
              "    <tr>\n",
              "      <th>2</th>\n",
              "      <td>22.38767</td>\n",
              "      <td>20.85446</td>\n",
              "      <td>20.75418</td>\n",
              "      <td>20.073627</td>\n",
              "      <td>262.914770</td>\n",
              "      <td>46.025803</td>\n",
              "      <td>0.985297</td>\n",
              "    </tr>\n",
              "    <tr>\n",
              "      <th>3</th>\n",
              "      <td>22.03212</td>\n",
              "      <td>23.15455</td>\n",
              "      <td>21.86528</td>\n",
              "      <td>20.746343</td>\n",
              "      <td>146.381732</td>\n",
              "      <td>38.368224</td>\n",
              "      <td>0.712391</td>\n",
              "    </tr>\n",
              "    <tr>\n",
              "      <th>4</th>\n",
              "      <td>25.01815</td>\n",
              "      <td>24.53933</td>\n",
              "      <td>22.03248</td>\n",
              "      <td>22.377272</td>\n",
              "      <td>246.456081</td>\n",
              "      <td>30.515558</td>\n",
              "      <td>0.495552</td>\n",
              "    </tr>\n",
              "  </tbody>\n",
              "</table>\n",
              "</div>\n",
              "      <button class=\"colab-df-convert\" onclick=\"convertToInteractive('df-5c325a21-a84c-4c92-a336-d22eb5e39f0e')\"\n",
              "              title=\"Convert this dataframe to an interactive table.\"\n",
              "              style=\"display:none;\">\n",
              "        \n",
              "  <svg xmlns=\"http://www.w3.org/2000/svg\" height=\"24px\"viewBox=\"0 0 24 24\"\n",
              "       width=\"24px\">\n",
              "    <path d=\"M0 0h24v24H0V0z\" fill=\"none\"/>\n",
              "    <path d=\"M18.56 5.44l.94 2.06.94-2.06 2.06-.94-2.06-.94-.94-2.06-.94 2.06-2.06.94zm-11 1L8.5 8.5l.94-2.06 2.06-.94-2.06-.94L8.5 2.5l-.94 2.06-2.06.94zm10 10l.94 2.06.94-2.06 2.06-.94-2.06-.94-.94-2.06-.94 2.06-2.06.94z\"/><path d=\"M17.41 7.96l-1.37-1.37c-.4-.4-.92-.59-1.43-.59-.52 0-1.04.2-1.43.59L10.3 9.45l-7.72 7.72c-.78.78-.78 2.05 0 2.83L4 21.41c.39.39.9.59 1.41.59.51 0 1.02-.2 1.41-.59l7.78-7.78 2.81-2.81c.8-.78.8-2.07 0-2.86zM5.41 20L4 18.59l7.72-7.72 1.47 1.35L5.41 20z\"/>\n",
              "  </svg>\n",
              "      </button>\n",
              "      \n",
              "  <style>\n",
              "    .colab-df-container {\n",
              "      display:flex;\n",
              "      flex-wrap:wrap;\n",
              "      gap: 12px;\n",
              "    }\n",
              "\n",
              "    .colab-df-convert {\n",
              "      background-color: #E8F0FE;\n",
              "      border: none;\n",
              "      border-radius: 50%;\n",
              "      cursor: pointer;\n",
              "      display: none;\n",
              "      fill: #1967D2;\n",
              "      height: 32px;\n",
              "      padding: 0 0 0 0;\n",
              "      width: 32px;\n",
              "    }\n",
              "\n",
              "    .colab-df-convert:hover {\n",
              "      background-color: #E2EBFA;\n",
              "      box-shadow: 0px 1px 2px rgba(60, 64, 67, 0.3), 0px 1px 3px 1px rgba(60, 64, 67, 0.15);\n",
              "      fill: #174EA6;\n",
              "    }\n",
              "\n",
              "    [theme=dark] .colab-df-convert {\n",
              "      background-color: #3B4455;\n",
              "      fill: #D2E3FC;\n",
              "    }\n",
              "\n",
              "    [theme=dark] .colab-df-convert:hover {\n",
              "      background-color: #434B5C;\n",
              "      box-shadow: 0px 1px 3px 1px rgba(0, 0, 0, 0.15);\n",
              "      filter: drop-shadow(0px 1px 2px rgba(0, 0, 0, 0.3));\n",
              "      fill: #FFFFFF;\n",
              "    }\n",
              "  </style>\n",
              "\n",
              "      <script>\n",
              "        const buttonEl =\n",
              "          document.querySelector('#df-5c325a21-a84c-4c92-a336-d22eb5e39f0e button.colab-df-convert');\n",
              "        buttonEl.style.display =\n",
              "          google.colab.kernel.accessAllowed ? 'block' : 'none';\n",
              "\n",
              "        async function convertToInteractive(key) {\n",
              "          const element = document.querySelector('#df-5c325a21-a84c-4c92-a336-d22eb5e39f0e');\n",
              "          const dataTable =\n",
              "            await google.colab.kernel.invokeFunction('convertToInteractive',\n",
              "                                                     [key], {});\n",
              "          if (!dataTable) return;\n",
              "\n",
              "          const docLinkHtml = 'Like what you see? Visit the ' +\n",
              "            '<a target=\"_blank\" href=https://colab.research.google.com/notebooks/data_table.ipynb>data table notebook</a>'\n",
              "            + ' to learn more about interactive tables.';\n",
              "          element.innerHTML = '';\n",
              "          dataTable['output_type'] = 'display_data';\n",
              "          await google.colab.output.renderOutput(dataTable, element);\n",
              "          const docLink = document.createElement('div');\n",
              "          docLink.innerHTML = docLinkHtml;\n",
              "          element.appendChild(docLink);\n",
              "        }\n",
              "      </script>\n",
              "    </div>\n",
              "  </div>\n",
              "  "
            ]
          },
          "metadata": {},
          "execution_count": 23
        }
      ]
    },
    {
      "cell_type": "code",
      "execution_count": null,
      "id": "79c9c090",
      "metadata": {
        "colab": {
          "base_uri": "https://localhost:8080/"
        },
        "id": "79c9c090",
        "outputId": "96f31be9-710d-424f-dfd2-340ce6eaf24b"
      },
      "outputs": [
        {
          "output_type": "execute_result",
          "data": {
            "text/plain": [
              "(134911, 89941)"
            ]
          },
          "metadata": {},
          "execution_count": 24
        }
      ],
      "source": [
        "len(train_dataset), len(test_dataset)"
      ]
    },
    {
      "cell_type": "markdown",
      "source": [
        "# **Exploratory Analysis**"
      ],
      "metadata": {
        "id": "Ql3RHDLFC4ow"
      },
      "id": "Ql3RHDLFC4ow"
    },
    {
      "cell_type": "code",
      "source": [
        "train_dataset.head()"
      ],
      "metadata": {
        "colab": {
          "base_uri": "https://localhost:8080/",
          "height": 206
        },
        "id": "8LXJHM45Dj5q",
        "outputId": "3cae466e-0184-44f0-bffb-b662fc65ac84"
      },
      "id": "8LXJHM45Dj5q",
      "execution_count": null,
      "outputs": [
        {
          "output_type": "execute_result",
          "data": {
            "text/plain": [
              "   id  ultraviolet_filter  green_filter  red_filter  near_infrared_filter  \\\n",
              "0   1            17.44385      15.71196    16.14848             15.647619   \n",
              "1   2            22.02806      24.01481    21.16334             20.214615   \n",
              "2   3            23.07242      21.79252    20.51945             18.159421   \n",
              "3   4            23.45985      23.41583    20.36645             20.220636   \n",
              "4   5            23.89627      23.18005    21.12911             19.818470   \n",
              "\n",
              "        alpha      delta  redshift  stellar  \n",
              "0  158.167937  29.746275  0.094857        1  \n",
              "1  145.916931  38.083063  0.361631        1  \n",
              "2  245.684677  49.908866 -0.000065        2  \n",
              "3  204.812750  33.137303  0.643375        1  \n",
              "4  209.254795  55.296589  0.486448        1  "
            ],
            "text/html": [
              "\n",
              "  <div id=\"df-616d01e0-e427-44eb-ade7-915f8b3e355b\">\n",
              "    <div class=\"colab-df-container\">\n",
              "      <div>\n",
              "<style scoped>\n",
              "    .dataframe tbody tr th:only-of-type {\n",
              "        vertical-align: middle;\n",
              "    }\n",
              "\n",
              "    .dataframe tbody tr th {\n",
              "        vertical-align: top;\n",
              "    }\n",
              "\n",
              "    .dataframe thead th {\n",
              "        text-align: right;\n",
              "    }\n",
              "</style>\n",
              "<table border=\"1\" class=\"dataframe\">\n",
              "  <thead>\n",
              "    <tr style=\"text-align: right;\">\n",
              "      <th></th>\n",
              "      <th>id</th>\n",
              "      <th>ultraviolet_filter</th>\n",
              "      <th>green_filter</th>\n",
              "      <th>red_filter</th>\n",
              "      <th>near_infrared_filter</th>\n",
              "      <th>alpha</th>\n",
              "      <th>delta</th>\n",
              "      <th>redshift</th>\n",
              "      <th>stellar</th>\n",
              "    </tr>\n",
              "  </thead>\n",
              "  <tbody>\n",
              "    <tr>\n",
              "      <th>0</th>\n",
              "      <td>1</td>\n",
              "      <td>17.44385</td>\n",
              "      <td>15.71196</td>\n",
              "      <td>16.14848</td>\n",
              "      <td>15.647619</td>\n",
              "      <td>158.167937</td>\n",
              "      <td>29.746275</td>\n",
              "      <td>0.094857</td>\n",
              "      <td>1</td>\n",
              "    </tr>\n",
              "    <tr>\n",
              "      <th>1</th>\n",
              "      <td>2</td>\n",
              "      <td>22.02806</td>\n",
              "      <td>24.01481</td>\n",
              "      <td>21.16334</td>\n",
              "      <td>20.214615</td>\n",
              "      <td>145.916931</td>\n",
              "      <td>38.083063</td>\n",
              "      <td>0.361631</td>\n",
              "      <td>1</td>\n",
              "    </tr>\n",
              "    <tr>\n",
              "      <th>2</th>\n",
              "      <td>3</td>\n",
              "      <td>23.07242</td>\n",
              "      <td>21.79252</td>\n",
              "      <td>20.51945</td>\n",
              "      <td>18.159421</td>\n",
              "      <td>245.684677</td>\n",
              "      <td>49.908866</td>\n",
              "      <td>-0.000065</td>\n",
              "      <td>2</td>\n",
              "    </tr>\n",
              "    <tr>\n",
              "      <th>3</th>\n",
              "      <td>4</td>\n",
              "      <td>23.45985</td>\n",
              "      <td>23.41583</td>\n",
              "      <td>20.36645</td>\n",
              "      <td>20.220636</td>\n",
              "      <td>204.812750</td>\n",
              "      <td>33.137303</td>\n",
              "      <td>0.643375</td>\n",
              "      <td>1</td>\n",
              "    </tr>\n",
              "    <tr>\n",
              "      <th>4</th>\n",
              "      <td>5</td>\n",
              "      <td>23.89627</td>\n",
              "      <td>23.18005</td>\n",
              "      <td>21.12911</td>\n",
              "      <td>19.818470</td>\n",
              "      <td>209.254795</td>\n",
              "      <td>55.296589</td>\n",
              "      <td>0.486448</td>\n",
              "      <td>1</td>\n",
              "    </tr>\n",
              "  </tbody>\n",
              "</table>\n",
              "</div>\n",
              "      <button class=\"colab-df-convert\" onclick=\"convertToInteractive('df-616d01e0-e427-44eb-ade7-915f8b3e355b')\"\n",
              "              title=\"Convert this dataframe to an interactive table.\"\n",
              "              style=\"display:none;\">\n",
              "        \n",
              "  <svg xmlns=\"http://www.w3.org/2000/svg\" height=\"24px\"viewBox=\"0 0 24 24\"\n",
              "       width=\"24px\">\n",
              "    <path d=\"M0 0h24v24H0V0z\" fill=\"none\"/>\n",
              "    <path d=\"M18.56 5.44l.94 2.06.94-2.06 2.06-.94-2.06-.94-.94-2.06-.94 2.06-2.06.94zm-11 1L8.5 8.5l.94-2.06 2.06-.94-2.06-.94L8.5 2.5l-.94 2.06-2.06.94zm10 10l.94 2.06.94-2.06 2.06-.94-2.06-.94-.94-2.06-.94 2.06-2.06.94z\"/><path d=\"M17.41 7.96l-1.37-1.37c-.4-.4-.92-.59-1.43-.59-.52 0-1.04.2-1.43.59L10.3 9.45l-7.72 7.72c-.78.78-.78 2.05 0 2.83L4 21.41c.39.39.9.59 1.41.59.51 0 1.02-.2 1.41-.59l7.78-7.78 2.81-2.81c.8-.78.8-2.07 0-2.86zM5.41 20L4 18.59l7.72-7.72 1.47 1.35L5.41 20z\"/>\n",
              "  </svg>\n",
              "      </button>\n",
              "      \n",
              "  <style>\n",
              "    .colab-df-container {\n",
              "      display:flex;\n",
              "      flex-wrap:wrap;\n",
              "      gap: 12px;\n",
              "    }\n",
              "\n",
              "    .colab-df-convert {\n",
              "      background-color: #E8F0FE;\n",
              "      border: none;\n",
              "      border-radius: 50%;\n",
              "      cursor: pointer;\n",
              "      display: none;\n",
              "      fill: #1967D2;\n",
              "      height: 32px;\n",
              "      padding: 0 0 0 0;\n",
              "      width: 32px;\n",
              "    }\n",
              "\n",
              "    .colab-df-convert:hover {\n",
              "      background-color: #E2EBFA;\n",
              "      box-shadow: 0px 1px 2px rgba(60, 64, 67, 0.3), 0px 1px 3px 1px rgba(60, 64, 67, 0.15);\n",
              "      fill: #174EA6;\n",
              "    }\n",
              "\n",
              "    [theme=dark] .colab-df-convert {\n",
              "      background-color: #3B4455;\n",
              "      fill: #D2E3FC;\n",
              "    }\n",
              "\n",
              "    [theme=dark] .colab-df-convert:hover {\n",
              "      background-color: #434B5C;\n",
              "      box-shadow: 0px 1px 3px 1px rgba(0, 0, 0, 0.15);\n",
              "      filter: drop-shadow(0px 1px 2px rgba(0, 0, 0, 0.3));\n",
              "      fill: #FFFFFF;\n",
              "    }\n",
              "  </style>\n",
              "\n",
              "      <script>\n",
              "        const buttonEl =\n",
              "          document.querySelector('#df-616d01e0-e427-44eb-ade7-915f8b3e355b button.colab-df-convert');\n",
              "        buttonEl.style.display =\n",
              "          google.colab.kernel.accessAllowed ? 'block' : 'none';\n",
              "\n",
              "        async function convertToInteractive(key) {\n",
              "          const element = document.querySelector('#df-616d01e0-e427-44eb-ade7-915f8b3e355b');\n",
              "          const dataTable =\n",
              "            await google.colab.kernel.invokeFunction('convertToInteractive',\n",
              "                                                     [key], {});\n",
              "          if (!dataTable) return;\n",
              "\n",
              "          const docLinkHtml = 'Like what you see? Visit the ' +\n",
              "            '<a target=\"_blank\" href=https://colab.research.google.com/notebooks/data_table.ipynb>data table notebook</a>'\n",
              "            + ' to learn more about interactive tables.';\n",
              "          element.innerHTML = '';\n",
              "          dataTable['output_type'] = 'display_data';\n",
              "          await google.colab.output.renderOutput(dataTable, element);\n",
              "          const docLink = document.createElement('div');\n",
              "          docLink.innerHTML = docLinkHtml;\n",
              "          element.appendChild(docLink);\n",
              "        }\n",
              "      </script>\n",
              "    </div>\n",
              "  </div>\n",
              "  "
            ]
          },
          "metadata": {},
          "execution_count": 25
        }
      ]
    },
    {
      "cell_type": "code",
      "source": [
        "train_dataset.info()"
      ],
      "metadata": {
        "colab": {
          "base_uri": "https://localhost:8080/"
        },
        "id": "nLbKOiwsClMh",
        "outputId": "9ee2e28d-7b8e-4e52-d9e1-ceedb56126a2"
      },
      "id": "nLbKOiwsClMh",
      "execution_count": null,
      "outputs": [
        {
          "output_type": "stream",
          "name": "stdout",
          "text": [
            "<class 'pandas.core.frame.DataFrame'>\n",
            "RangeIndex: 134911 entries, 0 to 134910\n",
            "Data columns (total 9 columns):\n",
            " #   Column                Non-Null Count   Dtype  \n",
            "---  ------                --------------   -----  \n",
            " 0   id                    134911 non-null  int64  \n",
            " 1   ultraviolet_filter    134911 non-null  float64\n",
            " 2   green_filter          134911 non-null  float64\n",
            " 3   red_filter            134911 non-null  float64\n",
            " 4   near_infrared_filter  134911 non-null  float64\n",
            " 5   alpha                 134911 non-null  float64\n",
            " 6   delta                 134911 non-null  float64\n",
            " 7   redshift              134911 non-null  float64\n",
            " 8   stellar               134911 non-null  int64  \n",
            "dtypes: float64(7), int64(2)\n",
            "memory usage: 9.3 MB\n"
          ]
        }
      ]
    },
    {
      "cell_type": "code",
      "source": [
        "train_dataset.nunique().to_frame().transpose()"
      ],
      "metadata": {
        "colab": {
          "base_uri": "https://localhost:8080/",
          "height": 81
        },
        "id": "NPufJxEfDGlX",
        "outputId": "92eb2624-8fdc-4b84-9707-58f79135b19c"
      },
      "id": "NPufJxEfDGlX",
      "execution_count": null,
      "outputs": [
        {
          "output_type": "execute_result",
          "data": {
            "text/plain": [
              "       id  ultraviolet_filter  green_filter  red_filter  near_infrared_filter  \\\n",
              "0  134911              124479        123148      121505                133528   \n",
              "\n",
              "    alpha   delta  redshift  stellar  \n",
              "0  134888  134898    134869        3  "
            ],
            "text/html": [
              "\n",
              "  <div id=\"df-c5e984a3-45fc-4d8d-8a0d-7cd13ca3903b\">\n",
              "    <div class=\"colab-df-container\">\n",
              "      <div>\n",
              "<style scoped>\n",
              "    .dataframe tbody tr th:only-of-type {\n",
              "        vertical-align: middle;\n",
              "    }\n",
              "\n",
              "    .dataframe tbody tr th {\n",
              "        vertical-align: top;\n",
              "    }\n",
              "\n",
              "    .dataframe thead th {\n",
              "        text-align: right;\n",
              "    }\n",
              "</style>\n",
              "<table border=\"1\" class=\"dataframe\">\n",
              "  <thead>\n",
              "    <tr style=\"text-align: right;\">\n",
              "      <th></th>\n",
              "      <th>id</th>\n",
              "      <th>ultraviolet_filter</th>\n",
              "      <th>green_filter</th>\n",
              "      <th>red_filter</th>\n",
              "      <th>near_infrared_filter</th>\n",
              "      <th>alpha</th>\n",
              "      <th>delta</th>\n",
              "      <th>redshift</th>\n",
              "      <th>stellar</th>\n",
              "    </tr>\n",
              "  </thead>\n",
              "  <tbody>\n",
              "    <tr>\n",
              "      <th>0</th>\n",
              "      <td>134911</td>\n",
              "      <td>124479</td>\n",
              "      <td>123148</td>\n",
              "      <td>121505</td>\n",
              "      <td>133528</td>\n",
              "      <td>134888</td>\n",
              "      <td>134898</td>\n",
              "      <td>134869</td>\n",
              "      <td>3</td>\n",
              "    </tr>\n",
              "  </tbody>\n",
              "</table>\n",
              "</div>\n",
              "      <button class=\"colab-df-convert\" onclick=\"convertToInteractive('df-c5e984a3-45fc-4d8d-8a0d-7cd13ca3903b')\"\n",
              "              title=\"Convert this dataframe to an interactive table.\"\n",
              "              style=\"display:none;\">\n",
              "        \n",
              "  <svg xmlns=\"http://www.w3.org/2000/svg\" height=\"24px\"viewBox=\"0 0 24 24\"\n",
              "       width=\"24px\">\n",
              "    <path d=\"M0 0h24v24H0V0z\" fill=\"none\"/>\n",
              "    <path d=\"M18.56 5.44l.94 2.06.94-2.06 2.06-.94-2.06-.94-.94-2.06-.94 2.06-2.06.94zm-11 1L8.5 8.5l.94-2.06 2.06-.94-2.06-.94L8.5 2.5l-.94 2.06-2.06.94zm10 10l.94 2.06.94-2.06 2.06-.94-2.06-.94-.94-2.06-.94 2.06-2.06.94z\"/><path d=\"M17.41 7.96l-1.37-1.37c-.4-.4-.92-.59-1.43-.59-.52 0-1.04.2-1.43.59L10.3 9.45l-7.72 7.72c-.78.78-.78 2.05 0 2.83L4 21.41c.39.39.9.59 1.41.59.51 0 1.02-.2 1.41-.59l7.78-7.78 2.81-2.81c.8-.78.8-2.07 0-2.86zM5.41 20L4 18.59l7.72-7.72 1.47 1.35L5.41 20z\"/>\n",
              "  </svg>\n",
              "      </button>\n",
              "      \n",
              "  <style>\n",
              "    .colab-df-container {\n",
              "      display:flex;\n",
              "      flex-wrap:wrap;\n",
              "      gap: 12px;\n",
              "    }\n",
              "\n",
              "    .colab-df-convert {\n",
              "      background-color: #E8F0FE;\n",
              "      border: none;\n",
              "      border-radius: 50%;\n",
              "      cursor: pointer;\n",
              "      display: none;\n",
              "      fill: #1967D2;\n",
              "      height: 32px;\n",
              "      padding: 0 0 0 0;\n",
              "      width: 32px;\n",
              "    }\n",
              "\n",
              "    .colab-df-convert:hover {\n",
              "      background-color: #E2EBFA;\n",
              "      box-shadow: 0px 1px 2px rgba(60, 64, 67, 0.3), 0px 1px 3px 1px rgba(60, 64, 67, 0.15);\n",
              "      fill: #174EA6;\n",
              "    }\n",
              "\n",
              "    [theme=dark] .colab-df-convert {\n",
              "      background-color: #3B4455;\n",
              "      fill: #D2E3FC;\n",
              "    }\n",
              "\n",
              "    [theme=dark] .colab-df-convert:hover {\n",
              "      background-color: #434B5C;\n",
              "      box-shadow: 0px 1px 3px 1px rgba(0, 0, 0, 0.15);\n",
              "      filter: drop-shadow(0px 1px 2px rgba(0, 0, 0, 0.3));\n",
              "      fill: #FFFFFF;\n",
              "    }\n",
              "  </style>\n",
              "\n",
              "      <script>\n",
              "        const buttonEl =\n",
              "          document.querySelector('#df-c5e984a3-45fc-4d8d-8a0d-7cd13ca3903b button.colab-df-convert');\n",
              "        buttonEl.style.display =\n",
              "          google.colab.kernel.accessAllowed ? 'block' : 'none';\n",
              "\n",
              "        async function convertToInteractive(key) {\n",
              "          const element = document.querySelector('#df-c5e984a3-45fc-4d8d-8a0d-7cd13ca3903b');\n",
              "          const dataTable =\n",
              "            await google.colab.kernel.invokeFunction('convertToInteractive',\n",
              "                                                     [key], {});\n",
              "          if (!dataTable) return;\n",
              "\n",
              "          const docLinkHtml = 'Like what you see? Visit the ' +\n",
              "            '<a target=\"_blank\" href=https://colab.research.google.com/notebooks/data_table.ipynb>data table notebook</a>'\n",
              "            + ' to learn more about interactive tables.';\n",
              "          element.innerHTML = '';\n",
              "          dataTable['output_type'] = 'display_data';\n",
              "          await google.colab.output.renderOutput(dataTable, element);\n",
              "          const docLink = document.createElement('div');\n",
              "          docLink.innerHTML = docLinkHtml;\n",
              "          element.appendChild(docLink);\n",
              "        }\n",
              "      </script>\n",
              "    </div>\n",
              "  </div>\n",
              "  "
            ]
          },
          "metadata": {},
          "execution_count": 27
        }
      ]
    },
    {
      "cell_type": "code",
      "source": [
        "occurrences = train_dataset['stellar'].value_counts().to_frame().rename(index=str, columns={'stellar': 'Occurrences'})\n",
        "occurrences"
      ],
      "metadata": {
        "colab": {
          "base_uri": "https://localhost:8080/",
          "height": 143
        },
        "id": "hG1K7RNyDV-S",
        "outputId": "e986f23f-b369-4bd4-c915-c7e1e5490637"
      },
      "id": "hG1K7RNyDV-S",
      "execution_count": null,
      "outputs": [
        {
          "output_type": "execute_result",
          "data": {
            "text/plain": [
              "   Occurrences\n",
              "1        86701\n",
              "2        33121\n",
              "3        15089"
            ],
            "text/html": [
              "\n",
              "  <div id=\"df-6cd44552-eae0-4184-ad35-e75d5820796f\">\n",
              "    <div class=\"colab-df-container\">\n",
              "      <div>\n",
              "<style scoped>\n",
              "    .dataframe tbody tr th:only-of-type {\n",
              "        vertical-align: middle;\n",
              "    }\n",
              "\n",
              "    .dataframe tbody tr th {\n",
              "        vertical-align: top;\n",
              "    }\n",
              "\n",
              "    .dataframe thead th {\n",
              "        text-align: right;\n",
              "    }\n",
              "</style>\n",
              "<table border=\"1\" class=\"dataframe\">\n",
              "  <thead>\n",
              "    <tr style=\"text-align: right;\">\n",
              "      <th></th>\n",
              "      <th>Occurrences</th>\n",
              "    </tr>\n",
              "  </thead>\n",
              "  <tbody>\n",
              "    <tr>\n",
              "      <th>1</th>\n",
              "      <td>86701</td>\n",
              "    </tr>\n",
              "    <tr>\n",
              "      <th>2</th>\n",
              "      <td>33121</td>\n",
              "    </tr>\n",
              "    <tr>\n",
              "      <th>3</th>\n",
              "      <td>15089</td>\n",
              "    </tr>\n",
              "  </tbody>\n",
              "</table>\n",
              "</div>\n",
              "      <button class=\"colab-df-convert\" onclick=\"convertToInteractive('df-6cd44552-eae0-4184-ad35-e75d5820796f')\"\n",
              "              title=\"Convert this dataframe to an interactive table.\"\n",
              "              style=\"display:none;\">\n",
              "        \n",
              "  <svg xmlns=\"http://www.w3.org/2000/svg\" height=\"24px\"viewBox=\"0 0 24 24\"\n",
              "       width=\"24px\">\n",
              "    <path d=\"M0 0h24v24H0V0z\" fill=\"none\"/>\n",
              "    <path d=\"M18.56 5.44l.94 2.06.94-2.06 2.06-.94-2.06-.94-.94-2.06-.94 2.06-2.06.94zm-11 1L8.5 8.5l.94-2.06 2.06-.94-2.06-.94L8.5 2.5l-.94 2.06-2.06.94zm10 10l.94 2.06.94-2.06 2.06-.94-2.06-.94-.94-2.06-.94 2.06-2.06.94z\"/><path d=\"M17.41 7.96l-1.37-1.37c-.4-.4-.92-.59-1.43-.59-.52 0-1.04.2-1.43.59L10.3 9.45l-7.72 7.72c-.78.78-.78 2.05 0 2.83L4 21.41c.39.39.9.59 1.41.59.51 0 1.02-.2 1.41-.59l7.78-7.78 2.81-2.81c.8-.78.8-2.07 0-2.86zM5.41 20L4 18.59l7.72-7.72 1.47 1.35L5.41 20z\"/>\n",
              "  </svg>\n",
              "      </button>\n",
              "      \n",
              "  <style>\n",
              "    .colab-df-container {\n",
              "      display:flex;\n",
              "      flex-wrap:wrap;\n",
              "      gap: 12px;\n",
              "    }\n",
              "\n",
              "    .colab-df-convert {\n",
              "      background-color: #E8F0FE;\n",
              "      border: none;\n",
              "      border-radius: 50%;\n",
              "      cursor: pointer;\n",
              "      display: none;\n",
              "      fill: #1967D2;\n",
              "      height: 32px;\n",
              "      padding: 0 0 0 0;\n",
              "      width: 32px;\n",
              "    }\n",
              "\n",
              "    .colab-df-convert:hover {\n",
              "      background-color: #E2EBFA;\n",
              "      box-shadow: 0px 1px 2px rgba(60, 64, 67, 0.3), 0px 1px 3px 1px rgba(60, 64, 67, 0.15);\n",
              "      fill: #174EA6;\n",
              "    }\n",
              "\n",
              "    [theme=dark] .colab-df-convert {\n",
              "      background-color: #3B4455;\n",
              "      fill: #D2E3FC;\n",
              "    }\n",
              "\n",
              "    [theme=dark] .colab-df-convert:hover {\n",
              "      background-color: #434B5C;\n",
              "      box-shadow: 0px 1px 3px 1px rgba(0, 0, 0, 0.15);\n",
              "      filter: drop-shadow(0px 1px 2px rgba(0, 0, 0, 0.3));\n",
              "      fill: #FFFFFF;\n",
              "    }\n",
              "  </style>\n",
              "\n",
              "      <script>\n",
              "        const buttonEl =\n",
              "          document.querySelector('#df-6cd44552-eae0-4184-ad35-e75d5820796f button.colab-df-convert');\n",
              "        buttonEl.style.display =\n",
              "          google.colab.kernel.accessAllowed ? 'block' : 'none';\n",
              "\n",
              "        async function convertToInteractive(key) {\n",
              "          const element = document.querySelector('#df-6cd44552-eae0-4184-ad35-e75d5820796f');\n",
              "          const dataTable =\n",
              "            await google.colab.kernel.invokeFunction('convertToInteractive',\n",
              "                                                     [key], {});\n",
              "          if (!dataTable) return;\n",
              "\n",
              "          const docLinkHtml = 'Like what you see? Visit the ' +\n",
              "            '<a target=\"_blank\" href=https://colab.research.google.com/notebooks/data_table.ipynb>data table notebook</a>'\n",
              "            + ' to learn more about interactive tables.';\n",
              "          element.innerHTML = '';\n",
              "          dataTable['output_type'] = 'display_data';\n",
              "          await google.colab.output.renderOutput(dataTable, element);\n",
              "          const docLink = document.createElement('div');\n",
              "          docLink.innerHTML = docLinkHtml;\n",
              "          element.appendChild(docLink);\n",
              "        }\n",
              "      </script>\n",
              "    </div>\n",
              "  </div>\n",
              "  "
            ]
          },
          "metadata": {},
          "execution_count": 28
        }
      ]
    },
    {
      "cell_type": "markdown",
      "source": [
        "# **Building the Random Forest Classifier**\n"
      ],
      "metadata": {
        "id": "9yZOI7uZG1_G"
      },
      "id": "9yZOI7uZG1_G"
    },
    {
      "cell_type": "code",
      "source": [
        "X = train_dataset.drop(['id', 'stellar'], axis = 1)\n",
        "y = train_dataset['stellar']"
      ],
      "metadata": {
        "id": "mhlCTOV_IqQH"
      },
      "id": "mhlCTOV_IqQH",
      "execution_count": null,
      "outputs": []
    },
    {
      "cell_type": "code",
      "source": [
        "X.head()"
      ],
      "metadata": {
        "colab": {
          "base_uri": "https://localhost:8080/",
          "height": 206
        },
        "id": "R9_OIOjeM10S",
        "outputId": "ed1df9e0-874e-429f-b83d-a8e427bc513b"
      },
      "id": "R9_OIOjeM10S",
      "execution_count": null,
      "outputs": [
        {
          "output_type": "execute_result",
          "data": {
            "text/plain": [
              "   ultraviolet_filter  green_filter  red_filter  near_infrared_filter  \\\n",
              "0            17.44385      15.71196    16.14848             15.647619   \n",
              "1            22.02806      24.01481    21.16334             20.214615   \n",
              "2            23.07242      21.79252    20.51945             18.159421   \n",
              "3            23.45985      23.41583    20.36645             20.220636   \n",
              "4            23.89627      23.18005    21.12911             19.818470   \n",
              "\n",
              "        alpha      delta  redshift  \n",
              "0  158.167937  29.746275  0.094857  \n",
              "1  145.916931  38.083063  0.361631  \n",
              "2  245.684677  49.908866 -0.000065  \n",
              "3  204.812750  33.137303  0.643375  \n",
              "4  209.254795  55.296589  0.486448  "
            ],
            "text/html": [
              "\n",
              "  <div id=\"df-f263b85d-4a58-4fe9-bf88-7d26e44a1990\">\n",
              "    <div class=\"colab-df-container\">\n",
              "      <div>\n",
              "<style scoped>\n",
              "    .dataframe tbody tr th:only-of-type {\n",
              "        vertical-align: middle;\n",
              "    }\n",
              "\n",
              "    .dataframe tbody tr th {\n",
              "        vertical-align: top;\n",
              "    }\n",
              "\n",
              "    .dataframe thead th {\n",
              "        text-align: right;\n",
              "    }\n",
              "</style>\n",
              "<table border=\"1\" class=\"dataframe\">\n",
              "  <thead>\n",
              "    <tr style=\"text-align: right;\">\n",
              "      <th></th>\n",
              "      <th>ultraviolet_filter</th>\n",
              "      <th>green_filter</th>\n",
              "      <th>red_filter</th>\n",
              "      <th>near_infrared_filter</th>\n",
              "      <th>alpha</th>\n",
              "      <th>delta</th>\n",
              "      <th>redshift</th>\n",
              "    </tr>\n",
              "  </thead>\n",
              "  <tbody>\n",
              "    <tr>\n",
              "      <th>0</th>\n",
              "      <td>17.44385</td>\n",
              "      <td>15.71196</td>\n",
              "      <td>16.14848</td>\n",
              "      <td>15.647619</td>\n",
              "      <td>158.167937</td>\n",
              "      <td>29.746275</td>\n",
              "      <td>0.094857</td>\n",
              "    </tr>\n",
              "    <tr>\n",
              "      <th>1</th>\n",
              "      <td>22.02806</td>\n",
              "      <td>24.01481</td>\n",
              "      <td>21.16334</td>\n",
              "      <td>20.214615</td>\n",
              "      <td>145.916931</td>\n",
              "      <td>38.083063</td>\n",
              "      <td>0.361631</td>\n",
              "    </tr>\n",
              "    <tr>\n",
              "      <th>2</th>\n",
              "      <td>23.07242</td>\n",
              "      <td>21.79252</td>\n",
              "      <td>20.51945</td>\n",
              "      <td>18.159421</td>\n",
              "      <td>245.684677</td>\n",
              "      <td>49.908866</td>\n",
              "      <td>-0.000065</td>\n",
              "    </tr>\n",
              "    <tr>\n",
              "      <th>3</th>\n",
              "      <td>23.45985</td>\n",
              "      <td>23.41583</td>\n",
              "      <td>20.36645</td>\n",
              "      <td>20.220636</td>\n",
              "      <td>204.812750</td>\n",
              "      <td>33.137303</td>\n",
              "      <td>0.643375</td>\n",
              "    </tr>\n",
              "    <tr>\n",
              "      <th>4</th>\n",
              "      <td>23.89627</td>\n",
              "      <td>23.18005</td>\n",
              "      <td>21.12911</td>\n",
              "      <td>19.818470</td>\n",
              "      <td>209.254795</td>\n",
              "      <td>55.296589</td>\n",
              "      <td>0.486448</td>\n",
              "    </tr>\n",
              "  </tbody>\n",
              "</table>\n",
              "</div>\n",
              "      <button class=\"colab-df-convert\" onclick=\"convertToInteractive('df-f263b85d-4a58-4fe9-bf88-7d26e44a1990')\"\n",
              "              title=\"Convert this dataframe to an interactive table.\"\n",
              "              style=\"display:none;\">\n",
              "        \n",
              "  <svg xmlns=\"http://www.w3.org/2000/svg\" height=\"24px\"viewBox=\"0 0 24 24\"\n",
              "       width=\"24px\">\n",
              "    <path d=\"M0 0h24v24H0V0z\" fill=\"none\"/>\n",
              "    <path d=\"M18.56 5.44l.94 2.06.94-2.06 2.06-.94-2.06-.94-.94-2.06-.94 2.06-2.06.94zm-11 1L8.5 8.5l.94-2.06 2.06-.94-2.06-.94L8.5 2.5l-.94 2.06-2.06.94zm10 10l.94 2.06.94-2.06 2.06-.94-2.06-.94-.94-2.06-.94 2.06-2.06.94z\"/><path d=\"M17.41 7.96l-1.37-1.37c-.4-.4-.92-.59-1.43-.59-.52 0-1.04.2-1.43.59L10.3 9.45l-7.72 7.72c-.78.78-.78 2.05 0 2.83L4 21.41c.39.39.9.59 1.41.59.51 0 1.02-.2 1.41-.59l7.78-7.78 2.81-2.81c.8-.78.8-2.07 0-2.86zM5.41 20L4 18.59l7.72-7.72 1.47 1.35L5.41 20z\"/>\n",
              "  </svg>\n",
              "      </button>\n",
              "      \n",
              "  <style>\n",
              "    .colab-df-container {\n",
              "      display:flex;\n",
              "      flex-wrap:wrap;\n",
              "      gap: 12px;\n",
              "    }\n",
              "\n",
              "    .colab-df-convert {\n",
              "      background-color: #E8F0FE;\n",
              "      border: none;\n",
              "      border-radius: 50%;\n",
              "      cursor: pointer;\n",
              "      display: none;\n",
              "      fill: #1967D2;\n",
              "      height: 32px;\n",
              "      padding: 0 0 0 0;\n",
              "      width: 32px;\n",
              "    }\n",
              "\n",
              "    .colab-df-convert:hover {\n",
              "      background-color: #E2EBFA;\n",
              "      box-shadow: 0px 1px 2px rgba(60, 64, 67, 0.3), 0px 1px 3px 1px rgba(60, 64, 67, 0.15);\n",
              "      fill: #174EA6;\n",
              "    }\n",
              "\n",
              "    [theme=dark] .colab-df-convert {\n",
              "      background-color: #3B4455;\n",
              "      fill: #D2E3FC;\n",
              "    }\n",
              "\n",
              "    [theme=dark] .colab-df-convert:hover {\n",
              "      background-color: #434B5C;\n",
              "      box-shadow: 0px 1px 3px 1px rgba(0, 0, 0, 0.15);\n",
              "      filter: drop-shadow(0px 1px 2px rgba(0, 0, 0, 0.3));\n",
              "      fill: #FFFFFF;\n",
              "    }\n",
              "  </style>\n",
              "\n",
              "      <script>\n",
              "        const buttonEl =\n",
              "          document.querySelector('#df-f263b85d-4a58-4fe9-bf88-7d26e44a1990 button.colab-df-convert');\n",
              "        buttonEl.style.display =\n",
              "          google.colab.kernel.accessAllowed ? 'block' : 'none';\n",
              "\n",
              "        async function convertToInteractive(key) {\n",
              "          const element = document.querySelector('#df-f263b85d-4a58-4fe9-bf88-7d26e44a1990');\n",
              "          const dataTable =\n",
              "            await google.colab.kernel.invokeFunction('convertToInteractive',\n",
              "                                                     [key], {});\n",
              "          if (!dataTable) return;\n",
              "\n",
              "          const docLinkHtml = 'Like what you see? Visit the ' +\n",
              "            '<a target=\"_blank\" href=https://colab.research.google.com/notebooks/data_table.ipynb>data table notebook</a>'\n",
              "            + ' to learn more about interactive tables.';\n",
              "          element.innerHTML = '';\n",
              "          dataTable['output_type'] = 'display_data';\n",
              "          await google.colab.output.renderOutput(dataTable, element);\n",
              "          const docLink = document.createElement('div');\n",
              "          docLink.innerHTML = docLinkHtml;\n",
              "          element.appendChild(docLink);\n",
              "        }\n",
              "      </script>\n",
              "    </div>\n",
              "  </div>\n",
              "  "
            ]
          },
          "metadata": {},
          "execution_count": 30
        }
      ]
    },
    {
      "cell_type": "code",
      "source": [
        "X.shape"
      ],
      "metadata": {
        "colab": {
          "base_uri": "https://localhost:8080/"
        },
        "id": "7grgZymWZQHy",
        "outputId": "8753fa7e-23bc-49fb-d621-81167f7fbb28"
      },
      "id": "7grgZymWZQHy",
      "execution_count": null,
      "outputs": [
        {
          "output_type": "execute_result",
          "data": {
            "text/plain": [
              "(134911, 7)"
            ]
          },
          "metadata": {},
          "execution_count": 31
        }
      ]
    },
    {
      "cell_type": "markdown",
      "source": [
        "## Training and Test Set Split"
      ],
      "metadata": {
        "id": "4W7ODHF1G6Zj"
      },
      "id": "4W7ODHF1G6Zj"
    },
    {
      "cell_type": "code",
      "source": [
        "#X = X.iloc[ : 1349]\n",
        "#y = y.iloc[ : 1349]"
      ],
      "metadata": {
        "id": "mwbb6rf_Ls97"
      },
      "id": "mwbb6rf_Ls97",
      "execution_count": null,
      "outputs": []
    },
    {
      "cell_type": "code",
      "source": [
        "x_train, x_test, y_train, y_test = train_test_split(X, y, test_size=0.2, random_state=1)\n",
        "clf = RandomForestClassifier()"
      ],
      "metadata": {
        "id": "M5BdXFvUEQmH"
      },
      "id": "M5BdXFvUEQmH",
      "execution_count": null,
      "outputs": []
    },
    {
      "cell_type": "code",
      "source": [
        "scaling = MinMaxScaler(feature_range = (-1,1)).fit(x_train)\n",
        "x_train_scaled = scaling.transform(x_train)\n",
        "x_test_scaled = scaling.transform(x_test)"
      ],
      "metadata": {
        "id": "YYZ4QmmrHBun"
      },
      "id": "YYZ4QmmrHBun",
      "execution_count": null,
      "outputs": []
    },
    {
      "cell_type": "markdown",
      "source": [
        "## Hyperparameter Optimisation"
      ],
      "metadata": {
        "id": "Am8xiKdiaghp"
      },
      "id": "Am8xiKdiaghp"
    },
    {
      "cell_type": "code",
      "source": [
        "from pprint import pprint\n",
        "pprint(clf.get_params())"
      ],
      "metadata": {
        "colab": {
          "base_uri": "https://localhost:8080/"
        },
        "id": "gZBWZACpad-5",
        "outputId": "b01bfc2b-684f-4164-8b95-764152d3374c"
      },
      "id": "gZBWZACpad-5",
      "execution_count": null,
      "outputs": [
        {
          "output_type": "stream",
          "name": "stdout",
          "text": [
            "{'bootstrap': True,\n",
            " 'ccp_alpha': 0.0,\n",
            " 'class_weight': None,\n",
            " 'criterion': 'gini',\n",
            " 'max_depth': None,\n",
            " 'max_features': 'auto',\n",
            " 'max_leaf_nodes': None,\n",
            " 'max_samples': None,\n",
            " 'min_impurity_decrease': 0.0,\n",
            " 'min_samples_leaf': 1,\n",
            " 'min_samples_split': 2,\n",
            " 'min_weight_fraction_leaf': 0.0,\n",
            " 'n_estimators': 100,\n",
            " 'n_jobs': None,\n",
            " 'oob_score': False,\n",
            " 'random_state': None,\n",
            " 'verbose': 0,\n",
            " 'warm_start': False}\n"
          ]
        }
      ]
    },
    {
      "cell_type": "markdown",
      "source": [
        "## Tuning Using Random Search\n"
      ],
      "metadata": {
        "id": "4L3dNpnIaqd_"
      },
      "id": "4L3dNpnIaqd_"
    },
    {
      "cell_type": "code",
      "source": [
        "from sklearn.model_selection import RandomizedSearchCV\n",
        "hyperparameters = {'max_features':[None, 'auto', 'sqrt', 'log2'],\n",
        "                   'max_depth':[None, 1, 5, 10, 15, 20],\n",
        "                   'min_samples_leaf': [1, 2, 4],\n",
        "                   'min_samples_split': [2, 5, 10],\n",
        "                   'n_estimators': [int(x) for x in np.linspace(start = 10, stop = 100, num = 10)],\n",
        "                   'criterion': ['gini', 'entropy']}\n",
        "rf_random = RandomizedSearchCV(clf, hyperparameters, n_iter = 100, cv = 10, verbose=2, random_state=123, n_jobs = -1)\n",
        "rf_random.fit(x_train, y_train)"
      ],
      "metadata": {
        "colab": {
          "base_uri": "https://localhost:8080/"
        },
        "id": "r-JyqTwjakVm",
        "outputId": "18a5d1ac-2534-4285-98b3-2773aa106e18"
      },
      "id": "r-JyqTwjakVm",
      "execution_count": null,
      "outputs": [
        {
          "metadata": {
            "tags": null
          },
          "name": "stdout",
          "output_type": "stream",
          "text": [
            "Fitting 10 folds for each of 100 candidates, totalling 1000 fits\n"
          ]
        }
      ]
    },
    {
      "cell_type": "code",
      "source": [
        "rf_random.best_params_"
      ],
      "metadata": {
        "id": "UQQsPGvpat6y"
      },
      "id": "UQQsPGvpat6y",
      "execution_count": null,
      "outputs": []
    },
    {
      "cell_type": "markdown",
      "source": [
        "## Tuning Using Grid Search"
      ],
      "metadata": {
        "id": "f2R23wZMbm3l"
      },
      "id": "f2R23wZMbm3l"
    },
    {
      "cell_type": "code",
      "source": [
        "hyperparameters = {'max_features':[None],\n",
        "                   'max_depth':[14, 15, 16],\n",
        "                   'min_samples_leaf': [1, 2, 3],\n",
        "                   'min_samples_split': [4, 5, 6],\n",
        "                   'n_estimators': [90, 100, 110],\n",
        "                   'criterion': ['entropy']}\n",
        "rf_grid = GridSearchCV(clf, hyperparameters, cv = 10, n_jobs = -1, verbose = 2)\n",
        "rf_grid.fit(x_train, y_train)"
      ],
      "metadata": {
        "id": "5dVFMi_4bsru"
      },
      "id": "5dVFMi_4bsru",
      "execution_count": null,
      "outputs": []
    },
    {
      "cell_type": "code",
      "source": [
        "rf_grid.best_params_"
      ],
      "metadata": {
        "id": "76ihZ6INbdKF"
      },
      "id": "76ihZ6INbdKF",
      "execution_count": null,
      "outputs": []
    },
    {
      "cell_type": "markdown",
      "source": [
        "## Training the Classifier\n"
      ],
      "metadata": {
        "id": "HTza070NcD0M"
      },
      "id": "HTza070NcD0M"
    },
    {
      "cell_type": "code",
      "source": [
        "clf.set_params(criterion = 'entropy', max_features = None, max_depth = 14, min_samples_leaf = 2, min_samples_split = 5, n_estimators = 100)"
      ],
      "metadata": {
        "id": "vhchFH_3cCEa"
      },
      "id": "vhchFH_3cCEa",
      "execution_count": null,
      "outputs": []
    },
    {
      "cell_type": "code",
      "source": [
        "clf.fit(x_train, y_train)\n",
        "y_pred = clf.predict(x_test)"
      ],
      "metadata": {
        "id": "N-dE85zgcpHJ"
      },
      "id": "N-dE85zgcpHJ",
      "execution_count": null,
      "outputs": []
    },
    {
      "cell_type": "markdown",
      "source": [
        "## Accuracy Score and F1 Score for training dataset\n",
        "\n"
      ],
      "metadata": {
        "id": "fLlepKQwcO2S"
      },
      "id": "fLlepKQwcO2S"
    },
    {
      "cell_type": "code",
      "source": [
        "sortedlabels = clf.classes_\n",
        "accscore = accuracy_score(y_test, y_pred)\n",
        "f1score = f1_score(y_test, y_pred, average = None)\n",
        "print(accscore*100)\n",
        "print(f1score*100)"
      ],
      "metadata": {
        "id": "nP1PXHhZcIbm"
      },
      "id": "nP1PXHhZcIbm",
      "execution_count": null,
      "outputs": []
    },
    {
      "cell_type": "markdown",
      "source": [
        "## Accuracy Score and F1 Score for test dataset\n",
        "\n"
      ],
      "metadata": {
        "id": "mcyBkihZgO1I"
      },
      "id": "mcyBkihZgO1I"
    },
    {
      "cell_type": "code",
      "source": [
        "y_pred_2 = clf.predict(test_X)"
      ],
      "metadata": {
        "id": "jej3G_2Dgn6j"
      },
      "id": "jej3G_2Dgn6j",
      "execution_count": null,
      "outputs": []
    },
    {
      "cell_type": "code",
      "source": [
        "y_pred_2.shape"
      ],
      "metadata": {
        "id": "TtVqVDMah2zW"
      },
      "id": "TtVqVDMah2zW",
      "execution_count": null,
      "outputs": []
    },
    {
      "cell_type": "code",
      "source": [
        "test_result_df = pd.DataFrame(y_pred_2)\n",
        "test_result_df.shape"
      ],
      "metadata": {
        "id": "DMgsHia_iV21"
      },
      "id": "DMgsHia_iV21",
      "execution_count": null,
      "outputs": []
    },
    {
      "cell_type": "code",
      "source": [
        "test_dataset['id']"
      ],
      "metadata": {
        "id": "zk-EiBWXlgsy"
      },
      "id": "zk-EiBWXlgsy",
      "execution_count": null,
      "outputs": []
    },
    {
      "cell_type": "code",
      "source": [
        "frames = [test_dataset['id'], test_result_df]\n",
        "result = pd.concat(frames, axis=1, join='inner')\n",
        "display(result)"
      ],
      "metadata": {
        "id": "n8oJAa_ZknMS"
      },
      "id": "n8oJAa_ZknMS",
      "execution_count": null,
      "outputs": []
    },
    {
      "cell_type": "code",
      "source": [
        "result.to_csv('resultss', index = False)"
      ],
      "metadata": {
        "id": "-Uuw_Y6Xl7Ll"
      },
      "id": "-Uuw_Y6Xl7Ll",
      "execution_count": null,
      "outputs": []
    },
    {
      "cell_type": "code",
      "source": [
        "y_pred_2"
      ],
      "metadata": {
        "id": "xWKHdLO_jiDx"
      },
      "id": "xWKHdLO_jiDx",
      "execution_count": null,
      "outputs": []
    }
  ],
  "metadata": {
    "kernelspec": {
      "display_name": "Python 3 (ipykernel)",
      "language": "python",
      "name": "python3"
    },
    "language_info": {
      "codemirror_mode": {
        "name": "ipython",
        "version": 3
      },
      "file_extension": ".py",
      "mimetype": "text/x-python",
      "name": "python",
      "nbconvert_exporter": "python",
      "pygments_lexer": "ipython3",
      "version": "3.9.12"
    },
    "colab": {
      "provenance": []
    }
  },
  "nbformat": 4,
  "nbformat_minor": 5
}